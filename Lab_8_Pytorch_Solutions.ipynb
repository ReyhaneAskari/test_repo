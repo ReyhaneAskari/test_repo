{
  "nbformat": 4,
  "nbformat_minor": 0,
  "metadata": {
    "colab": {
      "name": "Lab 8 - Pytorch- Solutions.ipynb",
      "provenance": [],
      "collapsed_sections": [],
      "include_colab_link": true
    },
    "kernelspec": {
      "name": "python3",
      "display_name": "Python 3"
    },
    "accelerator": "GPU"
  },
  "cells": [
    {
      "cell_type": "markdown",
      "metadata": {
        "id": "view-in-github",
        "colab_type": "text"
      },
      "source": [
        "<a href=\"https://colab.research.google.com/github/ReyhaneAskari/test_repo/blob/master/Lab_8_Pytorch_Solutions.ipynb\" target=\"_parent\"><img src=\"https://colab.research.google.com/assets/colab-badge.svg\" alt=\"Open In Colab\"/></a>"
      ]
    },
    {
      "cell_type": "markdown",
      "metadata": {
        "id": "ZrhnR4W-dD7R"
      },
      "source": [
        "# Lab 8 - Intro to PyTorch\n",
        "\n",
        "Previously, we've been using `numpy` to do mathematical calculations and make our statistical machine learning models run quickly. But now, we'll be looking at neural networks, where we will want to mostly calculate lots and lots of neurons. Since our neurons are usually in the form $f(x) = h(wx + b)$ we tend to deal with __large matrix multiplications__ (as well as additions, etc...). Since our standard method of training is SGD, with mini-batches, we want to do these matrix multiplications across our whole batch, and the fastest way to do that is in __parallel__. The best hardware for that isn't the CPU we're used to working with but a __GPU!__ There are a number of libraries that are useful for creating neural networks and running them on GPU (Keras/Tensorflow, Chainer,...) but we will be using `PyTorch`\n"
      ]
    },
    {
      "cell_type": "code",
      "metadata": {
        "colab": {
          "base_uri": "https://localhost:8080/",
          "height": 327
        },
        "id": "EVB5VWhuj0qu",
        "outputId": "de15815f-8cdd-4cb0-a468-e8842e94917c"
      },
      "source": [
        "!pip install \"wheel==0.34.2\"\n",
        "!pip install \"scikit-learn==0.21.2\""
      ],
      "execution_count": 7,
      "outputs": [
        {
          "output_type": "stream",
          "text": [
            "Requirement already satisfied: wheel==0.34.2 in /usr/local/lib/python3.6/dist-packages (0.34.2)\n",
            "Collecting scikit-learn==0.21.2\n",
            "\u001b[?25l  Downloading https://files.pythonhosted.org/packages/85/04/49633f490f726da6e454fddc8e938bbb5bfed2001681118d3814c219b723/scikit_learn-0.21.2-cp36-cp36m-manylinux1_x86_64.whl (6.7MB)\n",
            "\u001b[K     |████████████████████████████████| 6.7MB 7.7MB/s \n",
            "\u001b[?25hRequirement already satisfied: joblib>=0.11 in /usr/local/lib/python3.6/dist-packages (from scikit-learn==0.21.2) (0.17.0)\n",
            "Requirement already satisfied: scipy>=0.17.0 in /usr/local/lib/python3.6/dist-packages (from scikit-learn==0.21.2) (1.4.1)\n",
            "Requirement already satisfied: numpy>=1.11.0 in /usr/local/lib/python3.6/dist-packages (from scikit-learn==0.21.2) (1.18.5)\n",
            "Installing collected packages: scikit-learn\n",
            "  Found existing installation: scikit-learn 0.22\n",
            "    Uninstalling scikit-learn-0.22:\n",
            "      Successfully uninstalled scikit-learn-0.22\n",
            "Successfully installed scikit-learn-0.21.2\n"
          ],
          "name": "stdout"
        },
        {
          "output_type": "display_data",
          "data": {
            "application/vnd.colab-display-data+json": {
              "pip_warning": {
                "packages": [
                  "sklearn"
                ]
              }
            }
          },
          "metadata": {
            "tags": []
          }
        }
      ]
    },
    {
      "cell_type": "code",
      "metadata": {
        "id": "C7F1qZIhBnHM"
      },
      "source": [
        "# http://pytorch.org/\n",
        "from os.path import exists\n",
        "from wheel.pep425tags import get_abbr_impl, get_impl_ver, get_abi_tag\n",
        "platform = '{}{}-{}'.format(get_abbr_impl(), get_impl_ver(), get_abi_tag())\n",
        "cuda_output = !ldconfig -p|grep cudart.so|sed -e 's/.*\\.\\([0-9]*\\)\\.\\([0-9]*\\)$/cu\\1\\2/'\n",
        "accelerator = cuda_output[0] if exists('/dev/nvidia0') else 'cpu'\n",
        "\n",
        "import torch"
      ],
      "execution_count": 1,
      "outputs": []
    },
    {
      "cell_type": "code",
      "metadata": {
        "id": "5r0Igs2m3VIj",
        "colab": {
          "base_uri": "https://localhost:8080/"
        },
        "outputId": "ba91877c-72a5-4f84-aeaf-87e71c45ec06"
      },
      "source": [
        "%pylab inline\n",
        "import torch\n",
        "print(torch.__version__)"
      ],
      "execution_count": 2,
      "outputs": [
        {
          "output_type": "stream",
          "text": [
            "Populating the interactive namespace from numpy and matplotlib\n",
            "1.7.0+cu101\n"
          ],
          "name": "stdout"
        }
      ]
    },
    {
      "cell_type": "markdown",
      "metadata": {
        "id": "gk2j_j62dQ7C"
      },
      "source": [
        "## PyTorch Tensors\n",
        "\n",
        "Whereas `numpy` used `np.array` as the basic data structure, in `PyTorch` we will use the similar `torch.Tensor` which you can think of in the same way. The big difference is that `torch.Tensor` can also be moved to the GPU, where they use a library called `CUDA` under the hood to do calculations"
      ]
    },
    {
      "cell_type": "code",
      "metadata": {
        "id": "BUvUjxTBB_6Z",
        "colab": {
          "base_uri": "https://localhost:8080/"
        },
        "outputId": "eda8de1a-29b3-4685-96d0-c597dbfe8b2a"
      },
      "source": [
        "a = torch.Tensor([1,2,3])\n",
        "W = torch.randn(3,3)\n",
        "b = torch.Tensor([4,5,6]).view(3,1)\n",
        "print(W.mm(b))"
      ],
      "execution_count": 3,
      "outputs": [
        {
          "output_type": "stream",
          "text": [
            "tensor([[ 2.1003],\n",
            "        [-6.9332],\n",
            "        [ 4.1620]])\n"
          ],
          "name": "stdout"
        }
      ]
    },
    {
      "cell_type": "code",
      "metadata": {
        "id": "dySf1UboCDOA",
        "colab": {
          "base_uri": "https://localhost:8080/"
        },
        "outputId": "9e0bfcda-6a6b-4678-9f3d-bff2c1380315"
      },
      "source": [
        "device = torch.device('cuda:0')    # we use 0 to specify the first GPU\n",
        "a = a.to(device)\n",
        "b = b.to(device)\n",
        "c = torch.ones(3, device=device)\n",
        "print(a + b + c)"
      ],
      "execution_count": 4,
      "outputs": [
        {
          "output_type": "stream",
          "text": [
            "tensor([[ 6.,  7.,  8.],\n",
            "        [ 7.,  8.,  9.],\n",
            "        [ 8.,  9., 10.]], device='cuda:0')\n"
          ],
          "name": "stdout"
        }
      ]
    },
    {
      "cell_type": "markdown",
      "metadata": {
        "id": "WtLqbeuK3Z1k"
      },
      "source": [
        "## Iris Classification in PyTorch\n",
        "\n",
        "Let's load  `iris.txt` using the `sklearn` library, we can then preprocess the labels and convert them to one hot encoding\n"
      ]
    },
    {
      "cell_type": "code",
      "metadata": {
        "id": "gOd_eF_XGjXx",
        "colab": {
          "base_uri": "https://localhost:8080/"
        },
        "outputId": "d6596c78-416e-410a-a814-76284a8b5fd6"
      },
      "source": [
        "from sklearn import datasets\n",
        "from sklearn.model_selection import train_test_split\n",
        "from sklearn.preprocessing import OneHotEncoder\n",
        "\n",
        "iris = datasets.load_iris()\n",
        "\n",
        "# separate into train/test using sklearn\n",
        "(x_train, x_test, y_train, y_test) = train_test_split(iris.data, iris.target)\n",
        "\n",
        "num_features = x_train.shape[1]\n",
        "num_classes = 3\n",
        "\n",
        "# lets also convert our targets y to a one-hot encoding \n",
        "# e.g. 1 -> [0, 1, 0], 2 -> [0, 0 ,1]  \n",
        "one_hot = OneHotEncoder(n_values=num_classes, sparse=False)\n",
        "# fit_transform -> is just transform -> forward\n",
        "y_train = one_hot.fit_transform(y_train.reshape(-1,1))\n",
        "y_test = one_hot.transform(y_test.reshape(-1,1))"
      ],
      "execution_count": 9,
      "outputs": [
        {
          "output_type": "stream",
          "text": [
            "/usr/local/lib/python3.6/dist-packages/sklearn/preprocessing/_encoders.py:373: DeprecationWarning: Passing 'n_values' is deprecated in version 0.20 and will be removed in 0.22. You can use the 'categories' keyword instead. 'n_values=n' corresponds to 'categories=[range(n)] * n_features'.\n",
            "  warnings.warn(msg, DeprecationWarning)\n"
          ],
          "name": "stderr"
        }
      ]
    },
    {
      "cell_type": "markdown",
      "metadata": {
        "id": "LUWh1dyGug-z"
      },
      "source": [
        "Finally, we'll convert our data to `torch.Tensor` representations, and because we can only have operations between arguments of the same type so lets make everything a `float` as well"
      ]
    },
    {
      "cell_type": "code",
      "metadata": {
        "id": "JsZ2iGrIukbh"
      },
      "source": [
        "x_train = torch.from_numpy(x_train).float().to(device)\n",
        "x_test = torch.from_numpy(x_test).float().to(device)\n",
        "y_train = torch.from_numpy(y_train).float().to(device)\n",
        "y_test = torch.from_numpy(y_test).float().to(device)"
      ],
      "execution_count": 10,
      "outputs": []
    },
    {
      "cell_type": "markdown",
      "metadata": {
        "id": "ZsKetd5DheWc"
      },
      "source": [
        "## PyTorch Autograd\n",
        "\n",
        "\n"
      ]
    },
    {
      "cell_type": "markdown",
      "metadata": {
        "id": "Lt2dT6JclXDT"
      },
      "source": [
        "So far when doing gradient descent for various ML models we would compute the gradients manually to do the update. While this would be possible for very simple neural networks with no hidden layer, it would become very complicated and bothersome to do backpropagation for complex, deep neural networks.\n",
        "\n",
        "To this end, we'd like to just build our neural network and have our library calculate the gradients necessary for backpropogation itself! `PyTorch` does this with `autograd` which keeps track of all your operations and the gradients associated with them.\n",
        "\n",
        "To do this, we set `requires_grad = True` for the tensors we want to keep track of, and call `loss.backward()` to populate the `.grad` part of each tensor. In our case, this will be the `weights`.\n",
        "\n",
        "We are going to compare manual gradient computations and automatic gradient computations on a very simple network for iris classification with MSE loss, and make sure these computations are equivalent."
      ]
    },
    {
      "cell_type": "code",
      "metadata": {
        "id": "1_c-VJW8auzR"
      },
      "source": [
        "### We initialize weights and parameters\n",
        "torch.manual_seed(0)\n",
        "torch.cuda.manual_seed(0)\n",
        "# set requires_grad = True to track the gradients\n",
        "weights = torch.randn(num_features, num_classes, device=device, requires_grad=True)\n",
        "\n",
        "learning_rate = 2e-3\n",
        "num_epochs = 50\n",
        "\n",
        "losses = []\n",
        "\n",
        "### We now perform Gradient Descent\n",
        "\n",
        "for epoch in range(num_epochs):\n",
        "\n",
        "    # QUESTION : compute the predictions and MSE loss\n",
        "    # (Hint : torch.mm(x,y) is matrix multiplication in PyTorch)\n",
        "    # preds = # predictions\n",
        "    preds = torch.mm(x_train, weights)\n",
        "    # loss = # MSE loss\n",
        "    loss = ((y_train - preds) ** 2).mean()\n",
        "    # item() -> gets a python scalar from a tensor with a single value\n",
        "    losses.append(loss.item())\n",
        "\n",
        "    ### MANUAL gradient computation\n",
        "    # QUESTION : complete the gradient computation for MSE\n",
        "    # grad_preds = # gradients wrt predictions\n",
        "    # grad_w = # gradients wrt weights\n",
        "    \n",
        "    grad_preds = -2 * (y_train - preds) / (x_train.shape[0] * num_classes)\n",
        "    grad_w = torch.mm(x_train.T, grad_preds)\n",
        "\n",
        "    ### AUTO gradients computation\n",
        "    loss.backward()\n",
        "    \n",
        "    # Let's make sure both computations are equivalent\n",
        "    if not np.allclose(grad_w.tolist(), weights.grad.tolist()):\n",
        "      raise BaseException('gradients are different !')\n",
        "\n",
        "    ### Update the weights without changing the gradients\n",
        "    with torch.no_grad():\n",
        "      # access the gradient with weights.grad\n",
        "      weights -= learning_rate * weights.grad\n",
        "      \n",
        "      # make sure to reset the gradient to 0 for our next calculation\n",
        "      weights.grad.zero_()"
      ],
      "execution_count": 23,
      "outputs": []
    },
    {
      "cell_type": "code",
      "metadata": {
        "id": "TpPqyWzNqCxn",
        "colab": {
          "base_uri": "https://localhost:8080/",
          "height": 296
        },
        "outputId": "1ad31257-9f96-4a1e-f480-b6ab70566536"
      },
      "source": [
        "plot(range(num_epochs), losses)\n",
        "xlabel('epochs')\n",
        "ylabel('mean squared loss')"
      ],
      "execution_count": 24,
      "outputs": [
        {
          "output_type": "execute_result",
          "data": {
            "text/plain": [
              "Text(0, 0.5, 'mean squared loss')"
            ]
          },
          "metadata": {
            "tags": []
          },
          "execution_count": 24
        },
        {
          "output_type": "display_data",
          "data": {
            "image/png": "[encoded data removed]",
            "text/plain": [
              "<Figure size 432x288 with 1 Axes>"
            ]
          },
          "metadata": {
            "tags": [],
            "needs_background": "light"
          }
        }
      ]
    },
    {
      "cell_type": "markdown",
      "metadata": {
        "id": "nN81u_n-LPN1"
      },
      "source": [
        "## PyTorch Optimizers\n",
        "\n",
        "We can make our code even simpler by letting the library do the gradient updates as well! Using `torch.optim` we can choose from a variety of optimization strategies, and in this case, we can use regular `SGD`. We have to specify all the parameters we wish to optimize, so in this case it is just `weights`"
      ]
    },
    {
      "cell_type": "code",
      "metadata": {
        "id": "lzPiBADI77OT",
        "colab": {
          "base_uri": "https://localhost:8080/",
          "height": 296
        },
        "outputId": "24410678-33b8-48ed-8db6-9e5cfbd000ec"
      },
      "source": [
        "torch.manual_seed(0)\n",
        "torch.cuda.manual_seed(0)\n",
        "weights = torch.randn(num_features, num_classes, device=device, requires_grad=True)\n",
        "\n",
        "learning_rate = 2e-3\n",
        "num_epochs = 50\n",
        "losses = []\n",
        "\n",
        "# set the optimizer\n",
        "optimizer = torch.optim.SGD([weights], lr=learning_rate)\n",
        "\n",
        "for epoch in range(num_epochs):\n",
        "\n",
        "    preds = torch.mm(x_train, weights)\n",
        "    loss = (preds - y_train).pow(2).mean()\n",
        "    losses.append(loss.item())\n",
        "\n",
        "    # make sure to reset the gradients to 0 before calculation\n",
        "    optimizer.zero_grad()\n",
        "    loss.backward()\n",
        "    # update our parameter with SGD\n",
        "    optimizer.step()\n",
        "    \n",
        "plot(range(num_epochs), losses)\n",
        "xlabel('epochs')\n",
        "ylabel('mean squared loss')"
      ],
      "execution_count": 25,
      "outputs": [
        {
          "output_type": "execute_result",
          "data": {
            "text/plain": [
              "Text(0, 0.5, 'mean squared loss')"
            ]
          },
          "metadata": {
            "tags": []
          },
          "execution_count": 25
        },
        {
          "output_type": "display_data",
          "data": {
            "image/png": "[encoded data removed]",
            "text/plain": [
              "<Figure size 432x288 with 1 Axes>"
            ]
          },
          "metadata": {
            "tags": [],
            "needs_background": "light"
          }
        }
      ]
    },
    {
      "cell_type": "markdown",
      "metadata": {
        "id": "owq_-1znN401"
      },
      "source": [
        "## PyTorch NN\n",
        "\n",
        "Now nearly everything is in place, except it would still be a bit of a hassle to explicitly write out all the weights, biases, and other parameters we want to optimize. This is especially true since there are a lot of very common neural network building blocks that we use all the time. The `torch.nn` part of the libary is exactly that! It gives us all the tools to write our models at a higher level, going over the small details\n",
        "\n",
        "Here, we will replace:\n",
        "- `weights` with `nn.Linear` layer\n",
        "- our optimizer's listing of parameters with `model.parameters()` \n",
        "- our manual loss calculation with `nn.MSELoss`"
      ]
    },
    {
      "cell_type": "code",
      "metadata": {
        "id": "Augli26N8uFl",
        "colab": {
          "base_uri": "https://localhost:8080/",
          "height": 296
        },
        "outputId": "7c6c5898-25e1-4b02-d092-e78a0d72a71e"
      },
      "source": [
        "torch.manual_seed(0)\n",
        "torch.cuda.manual_seed(0)\n",
        "\n",
        "# define your model\n",
        "model = torch.nn.Linear(num_features, num_classes).to(device)\n",
        "# check the parameters\n",
        "params = model.named_parameters()\n",
        "params.__next__()\n",
        "params.__next__()\n",
        "# choose a loss function\n",
        "loss_fn = torch.nn.MSELoss()\n",
        "\n",
        "num_epochs = 50\n",
        "learning_rate = 2e-3\n",
        "# automatically find all your model's parameters\n",
        "optimizer = torch.optim.SGD(model.parameters(), lr=learning_rate)\n",
        "\n",
        "losses = []\n",
        "\n",
        "for epoch in range(num_epochs):\n",
        "    preds = model(x_train)\n",
        "    loss = loss_fn(preds, y_train)\n",
        "    losses.append(loss.item())\n",
        "    optimizer.zero_grad()\n",
        "    loss.backward()\n",
        "    optimizer.step()\n",
        "\n",
        "plot(range(num_epochs), losses)\n",
        "xlabel('epochs')\n",
        "ylabel('mean squared loss')"
      ],
      "execution_count": 29,
      "outputs": [
        {
          "output_type": "execute_result",
          "data": {
            "text/plain": [
              "Text(0, 0.5, 'mean squared loss')"
            ]
          },
          "metadata": {
            "tags": []
          },
          "execution_count": 29
        },
        {
          "output_type": "display_data",
          "data": {
            "image/png": "[encoded data removed]",
            "text/plain": [
              "<Figure size 432x288 with 1 Axes>"
            ]
          },
          "metadata": {
            "tags": [],
            "needs_background": "light"
          }
        }
      ]
    },
    {
      "cell_type": "markdown",
      "metadata": {
        "id": "AAvJ4MrI2ObP"
      },
      "source": [
        "There are other types of layers besides `nn.Linear`. For example, we can add a non-linear activation such as ReLU with `nn.ReLU`, or add a convolution layer with `nn.Conv2d` (as we will see next week)"
      ]
    },
    {
      "cell_type": "markdown",
      "metadata": {
        "id": "WqOeu26nQ3Ql"
      },
      "source": [
        "## PyTorch nn.Sequential\n",
        "Most of the time we want to build multi-layer neural networks. PyTorch lets us do that by using [nn.Sequential](https://pytorch.org/docs/stable/nn.html?#sequential), which wraps a sequence of layers together and turns them into one big model. nn.Sequential is similar to sklearn's pipline.\n"
      ]
    },
    {
      "cell_type": "code",
      "metadata": {
        "id": "HIApAoCqQ3gc",
        "colab": {
          "base_uri": "https://localhost:8080/",
          "height": 296
        },
        "outputId": "a6c06425-d1d3-48b3-9c52-ae18b688c2a7"
      },
      "source": [
        "torch.manual_seed(0)\n",
        "torch.cuda.manual_seed(0)\n",
        "\n",
        "model = torch.nn.Sequential(\n",
        "    torch.nn.Linear(num_features, 10),\n",
        "    # torch.nn.ReLU(),\n",
        "    torch.nn.Linear(10, num_classes)\n",
        ").to(device)\n",
        "    \n",
        "loss_fn = torch.nn.MSELoss()\n",
        "\n",
        "num_epochs = 100\n",
        "learning_rate = 2e-3\n",
        "optimizer = torch.optim.SGD(model.parameters(), lr=learning_rate)\n",
        "\n",
        "losses = []\n",
        "\n",
        "for epoch in range(num_epochs):\n",
        "    preds = model(x_train)\n",
        "    loss = loss_fn(preds, y_train)\n",
        "    losses.append(loss.item())\n",
        "    optimizer.zero_grad()\n",
        "    loss.backward()\n",
        "    optimizer.step()    \n",
        "\n",
        "plot(range(num_epochs), losses)\n",
        "xlabel('epochs')\n",
        "ylabel('mean squared loss')"
      ],
      "execution_count": 42,
      "outputs": [
        {
          "output_type": "execute_result",
          "data": {
            "text/plain": [
              "Text(0, 0.5, 'mean squared loss')"
            ]
          },
          "metadata": {
            "tags": []
          },
          "execution_count": 42
        },
        {
          "output_type": "display_data",
          "data": {
            "image/png": "[encoded data removed]",
            "text/plain": [
              "<Figure size 432x288 with 1 Axes>"
            ]
          },
          "metadata": {
            "tags": [],
            "needs_background": "light"
          }
        }
      ]
    },
    {
      "cell_type": "markdown",
      "metadata": {
        "id": "r3ym7c7DTNdN"
      },
      "source": [
        "## Challenge\n",
        "\n",
        "We're now doing really well on the `iris` dataset mainly because it is so simple and neural networks are so powerful! Let's work on something a bit harder, and try our hands on the sklearn Digits dataset. This dataset contains images of handwritten digits, similarly to the famous MNIST, but with smaller dimension and size (to simplify the code in the scope of this demo)\n",
        "\n",
        "There are 1797 images. The input images are handwritten digits (0 - 9) in a 8x8 pixel grayscale image. This means the input is a Tensor of size `1797 x 64` where each value is an \"intensity\" (how dark the pixel is) number between 0 and 255 (inclusive) . The output is the number that this handwritten image is showing, so between 0 and 9.\n",
        "\n",
        "We now try using neural networks coded in PyTorch to handle this classification task. The loss function we use is softmax cross entropy (look [here](https://pytorch.org/docs/stable/nn.html?#loss-functions)).\n",
        "The following code cell has an example of decently performing neural net. It is now your turn to play with the architecture and hyperparameters and see how it affects training score, test score, computation speed, etc. Try to improve the performances !\n",
        "\n",
        "You can play with :\n",
        "\n",
        "* number of layers\n",
        "* number of neurons per layers\n",
        "* device (cpu vs cuda, how does it impact speed ?)\n",
        "* adding non-linear layers between linear layers (e.g. ReLU, but there are others)\n",
        "* learning rate\n",
        "* number of epochs\n",
        "* loss function\n",
        "\n",
        "Note that the dataset has a small number of samples and we are not using convolution layers (which are more adapted to images and which we will study next week), so the performance will have some limitations."
      ]
    },
    {
      "cell_type": "code",
      "metadata": {
        "id": "BNISVu5J5OfP",
        "colab": {
          "base_uri": "https://localhost:8080/",
          "height": 313
        },
        "outputId": "54e37501-28a4-439f-93ce-e7b9ade69030"
      },
      "source": [
        "import torch\n",
        "import torch.nn as nn\n",
        "import torch.nn.functional as F\n",
        "import torch.optim as optim\n",
        "from torchvision import datasets, transforms\n",
        "\n",
        "from sklearn import datasets\n",
        "from sklearn.model_selection import train_test_split\n",
        "from sklearn.preprocessing import OneHotEncoder\n",
        "\n",
        "torch.manual_seed(0)\n",
        "torch.cuda.manual_seed(0)\n",
        "device = torch.device('cuda:0')\n",
        "\n",
        "### Load Digits dataset\n",
        "\n",
        "digits = datasets.load_digits()\n",
        "(x_train, x_test, y_train, y_test) = train_test_split(digits.data, digits.target)\n",
        "num_train = x_train.shape[0]\n",
        "num_test = x_test.shape[0]\n",
        "num_features = x_train.shape[1]\n",
        "num_classes = 10\n",
        "\n",
        "x_train = torch.from_numpy(x_train).float().to(device)\n",
        "x_test = torch.from_numpy(x_test).float().to(device)\n",
        "y_train = torch.from_numpy(y_train).long().to(device)\n",
        "y_test = torch.from_numpy(y_test).long().to(device)\n",
        "\n",
        "### Hyperparameters & architecture\n",
        "\n",
        "model = nn.Sequential(\n",
        "    nn.Linear(num_features, 200),\n",
        "    nn.ReLU(),\n",
        "    nn.Linear(200, 500),\n",
        "    nn.ReLU(),\n",
        "    nn.Linear(500, 500),\n",
        "    nn.ReLU(),\n",
        "    nn.Linear(500, num_classes),\n",
        ").to(device)\n",
        "\n",
        "num_epochs = 1000\n",
        "learning_rate = 2e-3\n",
        "loss_fn = nn.CrossEntropyLoss()\n",
        "\n",
        "### Training\n",
        "\n",
        "optimizer = torch.optim.SGD(model.parameters(), lr=learning_rate)\n",
        "losses = []\n",
        "\n",
        "for epoch in range(num_epochs):\n",
        "\n",
        "    preds = model(x_train)\n",
        "    loss = loss_fn(preds, y_train)\n",
        "    losses.append(loss.item())\n",
        "\n",
        "    optimizer.zero_grad()\n",
        "    loss.backward()\n",
        "    optimizer.step()    \n",
        "\n",
        "### Results\n",
        "    \n",
        "plot(range(num_epochs), losses)\n",
        "xlabel('epochs')\n",
        "ylabel('crossentropy loss')\n",
        "\n",
        "preds_train = model(x_train)\n",
        "acc = 0\n",
        "for i in range(len(y_train)):\n",
        "  if torch.argmax(preds_train[i]) == y_train[i]:\n",
        "    acc += 1\n",
        "print('train accuracy : {}'.format(acc / len(y_train)))\n",
        "\n",
        "preds_test = model(x_test)\n",
        "acc = 0\n",
        "for i in range(len(y_test)):\n",
        "  if torch.argmax(preds_test[i]) == y_test[i]:\n",
        "    acc += 1\n",
        "print('test accuracy : {}'.format(acc / len(y_test)))\n"
      ],
      "execution_count": 43,
      "outputs": [
        {
          "output_type": "stream",
          "text": [
            "train accuracy : 0.9695619896065331\n",
            "test accuracy : 0.9377777777777778\n"
          ],
          "name": "stdout"
        },
        {
          "output_type": "display_data",
          "data": {
            "image/png": "[encoded data removed]",
            "text/plain": [
              "<Figure size 432x288 with 1 Axes>"
            ]
          },
          "metadata": {
            "tags": [],
            "needs_background": "light"
          }
        }
      ]
    }
  ]
}